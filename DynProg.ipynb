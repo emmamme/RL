{
 "cells": [
  {
   "cell_type": "code",
   "execution_count": 30,
   "metadata": {
    "id": "HsGqubiDkQnd"
   },
   "outputs": [],
   "source": [
    "import gym\n",
    "import time\n",
    "import numpy as np\n",
    "import math\n",
    "import seaborn as sns\n",
    "import matplotlib.pyplot as plt"
   ]
  },
  {
   "cell_type": "code",
   "execution_count": 2,
   "metadata": {
    "id": "7iS40R9okStg"
   },
   "outputs": [],
   "source": [
    "gym.envs.register(\n",
    "    id='FrozenLakeNotSlippery-v0',\n",
    "    entry_point='gym.envs.toy_text:FrozenLakeEnv',\n",
    "    kwargs={'map_name' : '4x4', 'is_slippery': False},\n",
    "    max_episode_steps=100,\n",
    "    reward_threshold=0.74\n",
    ")"
   ]
  },
  {
   "cell_type": "markdown",
   "metadata": {
    "id": "XSUB3vPXHky1"
   },
   "source": [
    "> #### Question: what is the data in env.env.P structure mean? Relate this to the course presentation of P\n",
    "\n",
    "env.env.P is a collcection of all possible states in an environment, in this case, it has 16 states representing 16 grids. For each state, it contains a list of possible actions, and each action contains a list of probability of proceedig to next state, next state, reward and a boolean to indicate if game is terminated or not after action is applied. Overall this P represents the enviroment dynamics as presented in our course."
   ]
  },
  {
   "cell_type": "code",
   "execution_count": 3,
   "metadata": {
    "colab": {
     "base_uri": "https://localhost:8080/"
    },
    "id": "FVX1AjRWkueO",
    "outputId": "b8988bff-b760-46c0-ed45-a44fbcfca916"
   },
   "outputs": [
    {
     "data": {
      "text/plain": [
       "{0: {0: [(1.0, 0, 0.0, False)],\n",
       "  1: [(1.0, 4, 0.0, False)],\n",
       "  2: [(1.0, 1, 0.0, False)],\n",
       "  3: [(1.0, 0, 0.0, False)]},\n",
       " 1: {0: [(1.0, 0, 0.0, False)],\n",
       "  1: [(1.0, 5, 0.0, True)],\n",
       "  2: [(1.0, 2, 0.0, False)],\n",
       "  3: [(1.0, 1, 0.0, False)]},\n",
       " 2: {0: [(1.0, 1, 0.0, False)],\n",
       "  1: [(1.0, 6, 0.0, False)],\n",
       "  2: [(1.0, 3, 0.0, False)],\n",
       "  3: [(1.0, 2, 0.0, False)]},\n",
       " 3: {0: [(1.0, 2, 0.0, False)],\n",
       "  1: [(1.0, 7, 0.0, True)],\n",
       "  2: [(1.0, 3, 0.0, False)],\n",
       "  3: [(1.0, 3, 0.0, False)]},\n",
       " 4: {0: [(1.0, 4, 0.0, False)],\n",
       "  1: [(1.0, 8, 0.0, False)],\n",
       "  2: [(1.0, 5, 0.0, True)],\n",
       "  3: [(1.0, 0, 0.0, False)]},\n",
       " 5: {0: [(1.0, 5, 0, True)],\n",
       "  1: [(1.0, 5, 0, True)],\n",
       "  2: [(1.0, 5, 0, True)],\n",
       "  3: [(1.0, 5, 0, True)]},\n",
       " 6: {0: [(1.0, 5, 0.0, True)],\n",
       "  1: [(1.0, 10, 0.0, False)],\n",
       "  2: [(1.0, 7, 0.0, True)],\n",
       "  3: [(1.0, 2, 0.0, False)]},\n",
       " 7: {0: [(1.0, 7, 0, True)],\n",
       "  1: [(1.0, 7, 0, True)],\n",
       "  2: [(1.0, 7, 0, True)],\n",
       "  3: [(1.0, 7, 0, True)]},\n",
       " 8: {0: [(1.0, 8, 0.0, False)],\n",
       "  1: [(1.0, 12, 0.0, True)],\n",
       "  2: [(1.0, 9, 0.0, False)],\n",
       "  3: [(1.0, 4, 0.0, False)]},\n",
       " 9: {0: [(1.0, 8, 0.0, False)],\n",
       "  1: [(1.0, 13, 0.0, False)],\n",
       "  2: [(1.0, 10, 0.0, False)],\n",
       "  3: [(1.0, 5, 0.0, True)]},\n",
       " 10: {0: [(1.0, 9, 0.0, False)],\n",
       "  1: [(1.0, 14, 0.0, False)],\n",
       "  2: [(1.0, 11, 0.0, True)],\n",
       "  3: [(1.0, 6, 0.0, False)]},\n",
       " 11: {0: [(1.0, 11, 0, True)],\n",
       "  1: [(1.0, 11, 0, True)],\n",
       "  2: [(1.0, 11, 0, True)],\n",
       "  3: [(1.0, 11, 0, True)]},\n",
       " 12: {0: [(1.0, 12, 0, True)],\n",
       "  1: [(1.0, 12, 0, True)],\n",
       "  2: [(1.0, 12, 0, True)],\n",
       "  3: [(1.0, 12, 0, True)]},\n",
       " 13: {0: [(1.0, 12, 0.0, True)],\n",
       "  1: [(1.0, 13, 0.0, False)],\n",
       "  2: [(1.0, 14, 0.0, False)],\n",
       "  3: [(1.0, 9, 0.0, False)]},\n",
       " 14: {0: [(1.0, 13, 0.0, False)],\n",
       "  1: [(1.0, 14, 0.0, False)],\n",
       "  2: [(1.0, 15, 1.0, True)],\n",
       "  3: [(1.0, 10, 0.0, False)]},\n",
       " 15: {0: [(1.0, 15, 0, True)],\n",
       "  1: [(1.0, 15, 0, True)],\n",
       "  2: [(1.0, 15, 0, True)],\n",
       "  3: [(1.0, 15, 0, True)]}}"
      ]
     },
     "execution_count": 3,
     "metadata": {
      "tags": []
     },
     "output_type": "execute_result"
    }
   ],
   "source": [
    "# Create the gridworld-like environment\n",
    "env=gym.make('FrozenLakeNotSlippery-v0')\n",
    "# env = gym.make(\"FrozenLake-v0\")\n",
    "# Let's look at the model of the environment (i.e., P):\n",
    "env.env.P"
   ]
  },
  {
   "cell_type": "code",
   "execution_count": 4,
   "metadata": {
    "colab": {
     "base_uri": "https://localhost:8080/"
    },
    "id": "Gyn_w3ulkyZI",
    "outputId": "48cd766d-1366-4a40-96d6-edd4055f7154"
   },
   "outputs": [
    {
     "name": "stdout",
     "output_type": "stream",
     "text": [
      "Discrete(16)\n"
     ]
    }
   ],
   "source": [
    "# Now let's investigate the observation space (i.e., S using our nomenclature),\n",
    "# and confirm we see it is a discrete space with 16 locations\n",
    "print(env.observation_space)"
   ]
  },
  {
   "cell_type": "code",
   "execution_count": 5,
   "metadata": {
    "colab": {
     "base_uri": "https://localhost:8080/"
    },
    "id": "zND5ArI8k_qQ",
    "outputId": "e4f706ef-3736-4d4e-9055-9593f43d0b99"
   },
   "outputs": [
    {
     "name": "stdout",
     "output_type": "stream",
     "text": [
      "16\n"
     ]
    }
   ],
   "source": [
    "stateSpaceSize = env.observation_space.n\n",
    "print(stateSpaceSize)"
   ]
  },
  {
   "cell_type": "code",
   "execution_count": 6,
   "metadata": {
    "colab": {
     "base_uri": "https://localhost:8080/"
    },
    "id": "R_tp9YzRljnj",
    "outputId": "7755edc6-8a4b-48a0-bfa4-4aeb4587a78d"
   },
   "outputs": [
    {
     "name": "stdout",
     "output_type": "stream",
     "text": [
      "Discrete(4)\n"
     ]
    }
   ],
   "source": [
    "# Now let's investigate the action space (i.e., A) for the agent->environment\n",
    "# channel\n",
    "print(env.action_space)"
   ]
  },
  {
   "cell_type": "code",
   "execution_count": 7,
   "metadata": {
    "colab": {
     "base_uri": "https://localhost:8080/"
    },
    "id": "fFGNZNowluz2",
    "outputId": "af9fadfa-dfec-4ffc-f5f2-f9ee79c1d22c"
   },
   "outputs": [
    {
     "name": "stdout",
     "output_type": "stream",
     "text": [
      "sample from S: 15  ...  sample from A: 0\n",
      "sample from S: 1  ...  sample from A: 1\n",
      "sample from S: 7  ...  sample from A: 3\n",
      "sample from S: 3  ...  sample from A: 3\n",
      "sample from S: 13  ...  sample from A: 2\n",
      "sample from S: 14  ...  sample from A: 3\n",
      "sample from S: 13  ...  sample from A: 1\n",
      "sample from S: 8  ...  sample from A: 2\n",
      "sample from S: 10  ...  sample from A: 1\n"
     ]
    }
   ],
   "source": [
    "# The gym environment has ...sample() functions that allow us to sample\n",
    "# from the above spaces:\n",
    "for g in range(1,10,1):\n",
    "  print(\"sample from S:\",env.observation_space.sample(),\" ... \",\"sample from A:\",env.action_space.sample())"
   ]
  },
  {
   "cell_type": "code",
   "execution_count": 8,
   "metadata": {
    "colab": {
     "base_uri": "https://localhost:8080/"
    },
    "id": "nOQL5JxsmcEd",
    "outputId": "9daa3818-30cc-4513-b2d1-6ed3e7a6a7fc"
   },
   "outputs": [
    {
     "name": "stdout",
     "output_type": "stream",
     "text": [
      "\n",
      "\u001b[41mS\u001b[0mFFF\n",
      "FHFH\n",
      "FFFH\n",
      "HFFG\n"
     ]
    }
   ],
   "source": [
    "# The enviroment also provides a helper to render (visualize) the environment\n",
    "env.reset()\n",
    "env.render()"
   ]
  },
  {
   "cell_type": "code",
   "execution_count": 9,
   "metadata": {
    "colab": {
     "base_uri": "https://localhost:8080/"
    },
    "id": "KLV6e43mmwx1",
    "outputId": "c276b8dc-aa82-40a7-8eaf-a7636f910d20"
   },
   "outputs": [
    {
     "name": "stdout",
     "output_type": "stream",
     "text": [
      "\n",
      "\u001b[41mS\u001b[0mFFF\n",
      "FHFH\n",
      "FFFH\n",
      "HFFG\n",
      "Enter the action as an integer from 0 to 4  (or exit): \n",
      "2\n",
      "--> The result of taking action 2 is:\n",
      "     S= 1\n",
      "     R= 0.0\n",
      "     p= {'prob': 1.0}\n",
      "  (Right)\n",
      "S\u001b[41mF\u001b[0mFF\n",
      "FHFH\n",
      "FFFH\n",
      "HFFG\n",
      "  (Right)\n",
      "S\u001b[41mF\u001b[0mFF\n",
      "FHFH\n",
      "FFFH\n",
      "HFFG\n",
      "Enter the action as an integer from 0 to 4  (or exit): \n",
      "2\n",
      "--> The result of taking action 2 is:\n",
      "     S= 2\n",
      "     R= 0.0\n",
      "     p= {'prob': 1.0}\n",
      "  (Right)\n",
      "SF\u001b[41mF\u001b[0mF\n",
      "FHFH\n",
      "FFFH\n",
      "HFFG\n",
      "  (Right)\n",
      "SF\u001b[41mF\u001b[0mF\n",
      "FHFH\n",
      "FFFH\n",
      "HFFG\n",
      "Enter the action as an integer from 0 to 4  (or exit): \n",
      "1\n",
      "--> The result of taking action 1 is:\n",
      "     S= 6\n",
      "     R= 0.0\n",
      "     p= {'prob': 1.0}\n",
      "  (Down)\n",
      "SFFF\n",
      "FH\u001b[41mF\u001b[0mH\n",
      "FFFH\n",
      "HFFG\n",
      "  (Down)\n",
      "SFFF\n",
      "FH\u001b[41mF\u001b[0mH\n",
      "FFFH\n",
      "HFFG\n",
      "Enter the action as an integer from 0 to 4  (or exit): \n",
      "1\n",
      "--> The result of taking action 1 is:\n",
      "     S= 10\n",
      "     R= 0.0\n",
      "     p= {'prob': 1.0}\n",
      "  (Down)\n",
      "SFFF\n",
      "FHFH\n",
      "FF\u001b[41mF\u001b[0mH\n",
      "HFFG\n",
      "  (Down)\n",
      "SFFF\n",
      "FHFH\n",
      "FF\u001b[41mF\u001b[0mH\n",
      "HFFG\n",
      "Enter the action as an integer from 0 to 4  (or exit): \n",
      "1\n",
      "--> The result of taking action 1 is:\n",
      "     S= 14\n",
      "     R= 0.0\n",
      "     p= {'prob': 1.0}\n",
      "  (Down)\n",
      "SFFF\n",
      "FHFH\n",
      "FFFH\n",
      "HF\u001b[41mF\u001b[0mG\n",
      "  (Down)\n",
      "SFFF\n",
      "FHFH\n",
      "FFFH\n",
      "HF\u001b[41mF\u001b[0mG\n",
      "Enter the action as an integer from 0 to 4  (or exit): \n",
      "2\n",
      "--> The result of taking action 2 is:\n",
      "     S= 15\n",
      "     R= 1.0\n",
      "     p= {'prob': 1.0}\n",
      "  (Right)\n",
      "SFFF\n",
      "FHFH\n",
      "FFFH\n",
      "HFF\u001b[41mG\u001b[0m\n",
      "  (Right)\n",
      "SFFF\n",
      "FHFH\n",
      "FFFH\n",
      "HFF\u001b[41mG\u001b[0m\n",
      "Enter the action as an integer from 0 to 4  (or exit): \n",
      "exit\n"
     ]
    }
   ],
   "source": [
    "# We can act as the agent, by selecting actions and stepping the environment\n",
    "# through time to see its responses to our actions\n",
    "env.reset()\n",
    "exitCommand=False\n",
    "while not(exitCommand):\n",
    "  env.render()\n",
    "  print(\"Enter the action as an integer from 0 to\",env.action_space.n,\" (or exit): \")\n",
    "  userInput=input()\n",
    "  if userInput==\"exit\":\n",
    "    break\n",
    "  action=int(userInput)\n",
    "  (observation, reward, compute, probability) = env.step(action)\n",
    "  print(\"--> The result of taking action\",action,\"is:\")\n",
    "  print(\"     S=\",observation)\n",
    "  print(\"     R=\",reward)\n",
    "  print(\"     p=\",probability)\n",
    "\n",
    "  env.render()"
   ]
  },
  {
   "cell_type": "code",
   "execution_count": null,
   "metadata": {
    "id": "1tBpeiuRnyih"
   },
   "outputs": [],
   "source": [
    "# Question: draw a table indicating the correspondence between the action\n",
    "# you input (a number) and the logic action performed.\n",
    "# Question: draw a table that illustrates what the symbols on the render image\n",
    "# mean?\n",
    "# Question: Explain what the objective of the agent is in this environment?"
   ]
  },
  {
   "cell_type": "markdown",
   "metadata": {
    "id": "DOCK7sthdagh"
   },
   "source": [
    "> #### Question: draw a table indicating the correspondence between the action you input (a number) and the logic action performed.\n",
    "\n",
    "If your input number goes outside of the board, it will stay at the original gird.\n",
    "\n",
    "|Action input| Correspondence logic action|\n",
    "|------------|----------------------------|\n",
    "|0|Move Left|\n",
    "|1|Move Down|\n",
    "|2|Move Right|\n",
    "|3|Move Up|\n",
    "\n",
    "> #### Question: draw a table that illustrates what the symbols on the render image mean?\n",
    "\n",
    "|Symbol on render image| Correspondence logic meaning|\n",
    "|------------|----------------------------|\n",
    "|S|Starting point|\n",
    "|F|Forzen (Safe state)|\n",
    "|H|Hole (Not safe state)|\n",
    "|G|Goal of successful terminate state|\n",
    "\n",
    "> #### Question: Explain what the objective of the agent is in this environment?\n",
    "\n",
    "The objective of an agent in this game is get to G (goal) state from S (start) state in shorest steps possible without die on any of H (hole)."
   ]
  },
  {
   "cell_type": "code",
   "execution_count": null,
   "metadata": {
    "id": "tWI3h6s7qqdq"
   },
   "outputs": [],
   "source": [
    "# Practical: Code up an AI that will employ random action selection in order\n",
    "# to drive the agent. Test this random action selection agent with the\n",
    "# above environment (i.e., code up a loop as I did above, but instead\n",
    "# of taking input from a human user, take it from the AI you coded)."
   ]
  },
  {
   "cell_type": "markdown",
   "metadata": {
    "id": "rqoXPJzvI7Ps"
   },
   "source": [
    "> #### Practical: \n",
    "Code up an AI that will employ random action selection in order to drive the agent. Test this random action selection agent with the above environment (i.e., code up a loop as I did above, but instead of taking input from a human user, take it from the AI you coded).\n",
    "\n",
    "In this part, I used env.action_space.sample() to randomly sample actions instead of taking in human input. I tested this random approach and it does not perform well and always ends up falling into a H state (hole)."
   ]
  },
  {
   "cell_type": "code",
   "execution_count": 11,
   "metadata": {
    "id": "f1LRiGREi8m5"
   },
   "outputs": [],
   "source": [
    "def get_random_action():\n",
    "  return env.action_space.sample()"
   ]
  },
  {
   "cell_type": "code",
   "execution_count": 12,
   "metadata": {
    "colab": {
     "base_uri": "https://localhost:8080/"
    },
    "id": "YmRwGwPoqw0F",
    "outputId": "295010e1-865c-4d71-d708-58f263215aa6"
   },
   "outputs": [
    {
     "name": "stdout",
     "output_type": "stream",
     "text": [
      "\n",
      "\u001b[41mS\u001b[0mFFF\n",
      "FHFH\n",
      "FFFH\n",
      "HFFG\n",
      "--> The result of taking action 2 is:\n",
      "     S= 1\n",
      "     R= 0.0\n",
      "     p= {'prob': 1.0}\n",
      "  (Right)\n",
      "S\u001b[41mF\u001b[0mFF\n",
      "FHFH\n",
      "FFFH\n",
      "HFFG\n",
      "  (Right)\n",
      "S\u001b[41mF\u001b[0mFF\n",
      "FHFH\n",
      "FFFH\n",
      "HFFG\n",
      "--> The result of taking action 0 is:\n",
      "     S= 0\n",
      "     R= 0.0\n",
      "     p= {'prob': 1.0}\n",
      "  (Left)\n",
      "\u001b[41mS\u001b[0mFFF\n",
      "FHFH\n",
      "FFFH\n",
      "HFFG\n",
      "  (Left)\n",
      "\u001b[41mS\u001b[0mFFF\n",
      "FHFH\n",
      "FFFH\n",
      "HFFG\n",
      "--> The result of taking action 0 is:\n",
      "     S= 0\n",
      "     R= 0.0\n",
      "     p= {'prob': 1.0}\n",
      "  (Left)\n",
      "\u001b[41mS\u001b[0mFFF\n",
      "FHFH\n",
      "FFFH\n",
      "HFFG\n",
      "  (Left)\n",
      "\u001b[41mS\u001b[0mFFF\n",
      "FHFH\n",
      "FFFH\n",
      "HFFG\n",
      "--> The result of taking action 0 is:\n",
      "     S= 0\n",
      "     R= 0.0\n",
      "     p= {'prob': 1.0}\n",
      "  (Left)\n",
      "\u001b[41mS\u001b[0mFFF\n",
      "FHFH\n",
      "FFFH\n",
      "HFFG\n",
      "  (Left)\n",
      "\u001b[41mS\u001b[0mFFF\n",
      "FHFH\n",
      "FFFH\n",
      "HFFG\n",
      "--> The result of taking action 0 is:\n",
      "     S= 0\n",
      "     R= 0.0\n",
      "     p= {'prob': 1.0}\n",
      "  (Left)\n",
      "\u001b[41mS\u001b[0mFFF\n",
      "FHFH\n",
      "FFFH\n",
      "HFFG\n",
      "  (Left)\n",
      "\u001b[41mS\u001b[0mFFF\n",
      "FHFH\n",
      "FFFH\n",
      "HFFG\n",
      "--> The result of taking action 1 is:\n",
      "     S= 4\n",
      "     R= 0.0\n",
      "     p= {'prob': 1.0}\n",
      "  (Down)\n",
      "SFFF\n",
      "\u001b[41mF\u001b[0mHFH\n",
      "FFFH\n",
      "HFFG\n",
      "  (Down)\n",
      "SFFF\n",
      "\u001b[41mF\u001b[0mHFH\n",
      "FFFH\n",
      "HFFG\n",
      "--> The result of taking action 0 is:\n",
      "     S= 4\n",
      "     R= 0.0\n",
      "     p= {'prob': 1.0}\n",
      "  (Left)\n",
      "SFFF\n",
      "\u001b[41mF\u001b[0mHFH\n",
      "FFFH\n",
      "HFFG\n",
      "  (Left)\n",
      "SFFF\n",
      "\u001b[41mF\u001b[0mHFH\n",
      "FFFH\n",
      "HFFG\n",
      "--> The result of taking action 3 is:\n",
      "     S= 0\n",
      "     R= 0.0\n",
      "     p= {'prob': 1.0}\n",
      "  (Up)\n",
      "\u001b[41mS\u001b[0mFFF\n",
      "FHFH\n",
      "FFFH\n",
      "HFFG\n",
      "  (Up)\n",
      "\u001b[41mS\u001b[0mFFF\n",
      "FHFH\n",
      "FFFH\n",
      "HFFG\n",
      "--> The result of taking action 0 is:\n",
      "     S= 0\n",
      "     R= 0.0\n",
      "     p= {'prob': 1.0}\n",
      "  (Left)\n",
      "\u001b[41mS\u001b[0mFFF\n",
      "FHFH\n",
      "FFFH\n",
      "HFFG\n",
      "  (Left)\n",
      "\u001b[41mS\u001b[0mFFF\n",
      "FHFH\n",
      "FFFH\n",
      "HFFG\n",
      "--> The result of taking action 2 is:\n",
      "     S= 1\n",
      "     R= 0.0\n",
      "     p= {'prob': 1.0}\n",
      "  (Right)\n",
      "S\u001b[41mF\u001b[0mFF\n",
      "FHFH\n",
      "FFFH\n",
      "HFFG\n",
      "  (Right)\n",
      "S\u001b[41mF\u001b[0mFF\n",
      "FHFH\n",
      "FFFH\n",
      "HFFG\n",
      "--> The result of taking action 1 is:\n",
      "     S= 5\n",
      "     R= 0.0\n",
      "     p= {'prob': 1.0}\n",
      "  (Down)\n",
      "SFFF\n",
      "F\u001b[41mH\u001b[0mFH\n",
      "FFFH\n",
      "HFFG\n",
      "The resule of the game is Failed\n"
     ]
    }
   ],
   "source": [
    "env.reset()\n",
    "compute = False\n",
    "while not (compute):\n",
    "  env.render()\n",
    "  action = get_random_action()\n",
    "  # print(\"Enter the action as an integer from 0 to\",env.action_space.n,\" (or exit): \")\n",
    "  (observation, reward, compute, probability) = env.step(action)\n",
    "  print(\"--> The result of taking action\",action,\"is:\")\n",
    "  print(\"     S=\",observation)\n",
    "  print(\"     R=\",reward)\n",
    "  print(\"     p=\",probability)\n",
    "\n",
    "  env.render()\n",
    "print(\"The resule of the game is\", \"Successful\" if (compute and observation == 15) else \"Failed\")"
   ]
  },
  {
   "cell_type": "code",
   "execution_count": null,
   "metadata": {
    "id": "pQLKuubzrl4L"
   },
   "outputs": [],
   "source": [
    "# Now towards dynamic programming. Note that env.env.P has the model\n",
    "# of the environment.\n",
    "#\n",
    "# Question: How would you represent the agent's policy function and value function?\n",
    "# Practical: revise the above AI solver to use a policy function in which you\n",
    "# code the random action selections in the policy function. Test this.\n",
    "# Practical: Code the C-4 Policy Evaluation (Prediction) algorithm. You may use\n",
    "# either the inplace or ping-pong buffer (as described in the lecture). Now\n",
    "# randomly initialize your policy function, and compute its value function.\n",
    "# Report your results: policy and value function. Ensure your prediction\n",
    "# algo reports how many iterations it took.\n",
    "#\n",
    "# (Optional): Repeat the above for q.\n",
    "#\n",
    "# Policy Improvement:\n",
    "# Question: How would you use P and your value function to improve an arbitrary\n",
    "# policy, pi, per Chapter 4?\n",
    "# Practical: Code the policy iteration process, and employ it to arrive at a\n",
    "# policy that solves this problem. Show your testing results, and ensure\n",
    "# it reports the number of iterations for each step: (a) overall policy\n",
    "# iteration steps and (b) evaluation steps.\n",
    "# Practical: Code the value iteration process, and employ it to arrive at a\n",
    "# policy that solves this problem. Show your testing results, reporting\n",
    "# the iteration counts.\n",
    "# Comment on the difference between the iterations required for policy vs\n",
    "# value iteration.\n",
    "#\n",
    "# Optional: instead of the above environment, use the \"slippery\" Frozen Lake via\n",
    "# env = gym.make(\"FrozenLake-v0\")"
   ]
  },
  {
   "cell_type": "markdown",
   "metadata": {
    "id": "Wu2XDooTK2ce"
   },
   "source": [
    "#### Dynamic Programming\n",
    "\n",
    "#### Part 1: Policy evaluation\n",
    "\n",
    "> Question: How would you represent the agent's policy function and value function?\n",
    "\n",
    "The agent's policy function is represented by a multidimensional np array. In this case, it will be 16 x 4, each elememt in this array represents a state and it contains probability of all possible actions.\n",
    "\n",
    "Value funtion is calculated by looping through all states and rewards of each states, according to this formular:\n",
    "$\n",
    "V_\\pi(s) = \\sum_{}^{}{\\pi(a|s)q_\\pi(s,a)}\n",
    "$\n",
    "\n",
    "For each action, rewards, next state and trasition probability can be obtained from env.env.P, therefore state value can be calculated. Value function is also represented by a 16 x 1 np array where each element represents a state value."
   ]
  },
  {
   "cell_type": "markdown",
   "metadata": {
    "id": "qj2m4aL5UG7k"
   },
   "source": [
    "> Practical: revise the above AI solver to use a policy function in which you code the random action selections in the policy function. Test this.\n",
    "\n"
   ]
  },
  {
   "cell_type": "code",
   "execution_count": 14,
   "metadata": {
    "id": "iuAI0Ozh2OTd"
   },
   "outputs": [],
   "source": [
    "# Random action policy function, with equal probability for each action \n",
    "def policy_random(env):\n",
    "  return np.ones([env.observation_space.n, env.action_space.n]) / env.action_space.n"
   ]
  },
  {
   "cell_type": "markdown",
   "metadata": {
    "id": "dXnJk2MWUbLT"
   },
   "source": [
    "> Practical: Code the C-4 Policy Evaluation (Prediction) algorithm. You may use either the inplace or ping-pong buffer (as described in the lecture). Now randomly initialize your policy function, and compute its value function.\n",
    "\n",
    "In this section, a policy evaluation function is implemented with inplace approach. It is tested with a random policy function. Results are presented in following section.\n",
    "\n",
    "Theta of 1e-8 is chosen as threshold of convergence."
   ]
  },
  {
   "cell_type": "code",
   "execution_count": 15,
   "metadata": {
    "id": "DqxctG5gK4zD"
   },
   "outputs": [],
   "source": [
    "def policy_evaluation(env, policy, theta=1e-8, discount=1):\n",
    "  state_matrix = np.zeros(env.observation_space.n)\n",
    "  iteration_count = 0\n",
    "  while True:\n",
    "    change = 0\n",
    "    iteration_count += 1\n",
    "    for i in range(len(state_matrix)):\n",
    "      state_value = 0\n",
    "      for action, action_prob in enumerate(policy[i]):\n",
    "        for prob, next_state, reward, gameover in env.env.P[i][action]:\n",
    "          state_value += action_prob * prob * (reward + discount * state_matrix[next_state])\n",
    "      change = max(change, np.abs(state_matrix[i] - state_value))\n",
    "      state_matrix[i] = state_value\n",
    "    if (change < theta):\n",
    "      print(\"Last iteration state value change is: \", change)\n",
    "      break\n",
    "  print(\"Policy evaluation takes\", iteration_count, \"iteration to converage.\")\n",
    "  return state_matrix"
   ]
  },
  {
   "cell_type": "markdown",
   "metadata": {
    "id": "zVt-LCHgUkan"
   },
   "source": [
    "> Testing and report your results: policy and value function. Ensure your prediction algo reports how many iterations it took.\n",
    "\n",
    "I tested this policy evaluation function with a random policy (each state action has equal probability of 0.25), initial policy function is printed and this policy evaluation takes 57 iterations to converage. The final value function is also shown in below.\n",
    "\n",
    "I also plot final state value in a heatmap, as we can see, state values increase when it is closer to G (Goal state). And the H (hole state) all have 0 state values as they will fail the game."
   ]
  },
  {
   "cell_type": "code",
   "execution_count": 16,
   "metadata": {
    "colab": {
     "base_uri": "https://localhost:8080/",
     "height": 741
    },
    "id": "6WPFNeFltbGb",
    "outputId": "3aa987a7-6255-45ca-ec74-185fa4ee642a"
   },
   "outputs": [
    {
     "name": "stdout",
     "output_type": "stream",
     "text": [
      "Initial random policy: \n",
      " [[0.25 0.25 0.25 0.25]\n",
      " [0.25 0.25 0.25 0.25]\n",
      " [0.25 0.25 0.25 0.25]\n",
      " [0.25 0.25 0.25 0.25]\n",
      " [0.25 0.25 0.25 0.25]\n",
      " [0.25 0.25 0.25 0.25]\n",
      " [0.25 0.25 0.25 0.25]\n",
      " [0.25 0.25 0.25 0.25]\n",
      " [0.25 0.25 0.25 0.25]\n",
      " [0.25 0.25 0.25 0.25]\n",
      " [0.25 0.25 0.25 0.25]\n",
      " [0.25 0.25 0.25 0.25]\n",
      " [0.25 0.25 0.25 0.25]\n",
      " [0.25 0.25 0.25 0.25]\n",
      " [0.25 0.25 0.25 0.25]\n",
      " [0.25 0.25 0.25 0.25]]\n",
      "\n",
      "Policy evaluation starts...\n",
      "Last iteration state value change is:  8.452946887588242e-09\n",
      "Policy evaluation takes 57 iteration to converage.\n",
      "\n",
      "Value function of random policy: \n",
      " [0.01393977 0.01163091 0.02095297 0.01047648 0.01624865 0.\n",
      " 0.04075153 0.         0.03480619 0.08816993 0.14205316 0.\n",
      " 0.         0.17582037 0.43929118 0.        ]\n",
      "\n",
      "Heatmap plot of random policy's value function:\n"
     ]
    },
    {
     "data": {
      "image/png": "[encoded data removed]",
      "text/plain": [
       "<Figure size 432x288 with 1 Axes>"
      ]
     },
     "metadata": {
      "needs_background": "light",
      "tags": []
     },
     "output_type": "display_data"
    }
   ],
   "source": [
    "random_p = policy_random(env)\n",
    "print(\"Initial random policy: \\n\", random_p)\n",
    "print(\"\\nPolicy evaluation starts...\")\n",
    "final_state_values = policy_evaluation(env, random_p)\n",
    "print(\"\\nValue function of random policy: \\n\", final_state_values)\n",
    "print(\"\\nHeatmap plot of random policy's value function:\")\n",
    "sns.heatmap(final_state_values.reshape(4, 4), annot=True, cbar=False);"
   ]
  },
  {
   "cell_type": "markdown",
   "metadata": {
    "id": "MNK5hj6YUhSf"
   },
   "source": [
    "> (Optional): Repeat the above for q.\n",
    "\n",
    "I create an action value function, which calculates values of all action at a given state.\n"
   ]
  },
  {
   "cell_type": "code",
   "execution_count": 17,
   "metadata": {
    "id": "ZyllowK8G7mg"
   },
   "outputs": [],
   "source": [
    "# Get a list of action values at a given state\n",
    "def get_q(env, state_matrix, state, discount=1):\n",
    "  q = np.zeros(env.action_space.n)\n",
    "  for i in range(len(q)):\n",
    "    for action_prob, next_state, reward, gameover in env.env.P[state][i]:\n",
    "      q[i] += action_prob * (reward + discount * state_matrix[next_state])\n",
    "  return q"
   ]
  },
  {
   "cell_type": "markdown",
   "metadata": {
    "id": "hzgXrJ8ner7V"
   },
   "source": [
    "Testing action value function q and report results:\n",
    "\n",
    "Using the final state values from last section, I tested q function. Each calculated action value for all states are stored in a 16 x 4 np array."
   ]
  },
  {
   "cell_type": "code",
   "execution_count": 18,
   "metadata": {
    "colab": {
     "base_uri": "https://localhost:8080/",
     "height": 898
    },
    "id": "ynWzYzTcIb3O",
    "outputId": "779014bd-4590-4fdc-b280-5328769db133"
   },
   "outputs": [
    {
     "name": "stdout",
     "output_type": "stream",
     "text": [
      "Action values function q for all states \n",
      " [[0.01393977 0.01624865 0.01163091 0.01393977]\n",
      " [0.01393977 0.         0.02095297 0.01163091]\n",
      " [0.01163091 0.04075153 0.01047648 0.02095297]\n",
      " [0.02095297 0.         0.01047648 0.01047648]\n",
      " [0.01624865 0.03480619 0.         0.01393977]\n",
      " [0.         0.         0.         0.        ]\n",
      " [0.         0.14205316 0.         0.02095297]\n",
      " [0.         0.         0.         0.        ]\n",
      " [0.03480619 0.         0.08816993 0.01624865]\n",
      " [0.03480619 0.17582037 0.14205316 0.        ]\n",
      " [0.08816993 0.43929118 0.         0.04075153]\n",
      " [0.         0.         0.         0.        ]\n",
      " [0.         0.         0.         0.        ]\n",
      " [0.         0.17582037 0.43929118 0.08816993]\n",
      " [0.17582037 0.43929118 1.         0.14205316]\n",
      " [0.         0.         0.         0.        ]]\n",
      "Heatmap plot for q function for all states:\n"
     ]
    },
    {
     "data": {
      "image/png": "[encoded data removed]",
      "text/plain": [
       "<Figure size 360x720 with 1 Axes>"
      ]
     },
     "metadata": {
      "needs_background": "light",
      "tags": []
     },
     "output_type": "display_data"
    }
   ],
   "source": [
    "Q = np.zeros([16, 4])\n",
    "for i in range(env.observation_space.n):\n",
    "    Q[i] = get_q(env, final_state_values, i)\n",
    "print(\"Action values function q for all states \\n\", Q)\n",
    "print(\"Heatmap plot for q function for all states:\")\n",
    "plt.figure(figsize=(5, 10))\n",
    "sns.heatmap(Q, annot=True, cbar=False);"
   ]
  },
  {
   "cell_type": "markdown",
   "metadata": {
    "id": "fpInOtMpEr6l"
   },
   "source": [
    "#### Part 2: Policy improvement\n",
    "> Question: How would you use P and your value function to improve an arbitrary policy, pi, per Chapter 4?\n",
    "\n",
    "Given an arbitrary policy pi, value function of pi and environemnt dynamics P, policy can be improved by following pesudo steps:\n",
    "1. Looping through each state and compute action values array q\n",
    "2. For each state select the action with highest value from q\n",
    "3. Update the selected action or actions in policy with corresponding probability, this will be the improved new policy\n",
    "4. Return new policy\n",
    "\n"
   ]
  },
  {
   "cell_type": "code",
   "execution_count": 18,
   "metadata": {
    "id": "rasaegzk0Trg"
   },
   "outputs": [],
   "source": [
    "# Find the best rewarded action at each state\n",
    "def improve_policy(env, state_matrix):\n",
    "   policy = np.zeros([env.observation_space.n, env.action_space.n])/env.action_space.n\n",
    "   for i in range(env.observation_space.n):\n",
    "     q = get_q(env, state_matrix, i)\n",
    "     highest_rewards = np.amax(q, axis=0)\n",
    "     selected_actions = np.where(q == highest_rewards)[0]\n",
    "     prob = 0 if len(selected_actions)==0 else 1/len(selected_actions)\n",
    "     policy[i][selected_actions] = prob\n",
    "   return policy"
   ]
  },
  {
   "cell_type": "markdown",
   "metadata": {
    "id": "nLkjBPuPgwph"
   },
   "source": [
    "Testing policy improvement function and present results:\n",
    "\n",
    "I used random policy from last section and the computed state values to test improving policy function. Results are printed as shown, it is observed that all H states have 0.25 for all actions, since they are already failed game. And for other states, the action with highest action value is chosen. If two actions in one state have the same action value, each will be assigned with equal probability of 0.5."
   ]
  },
  {
   "cell_type": "code",
   "execution_count": 20,
   "metadata": {
    "colab": {
     "base_uri": "https://localhost:8080/",
     "height": 1000
    },
    "id": "3pp6coMxlS0v",
    "outputId": "86331b0d-f0c6-41d1-fdd3-d475e73bf467"
   },
   "outputs": [
    {
     "name": "stdout",
     "output_type": "stream",
     "text": [
      "Initial random policy: \n",
      " [[0.25 0.25 0.25 0.25]\n",
      " [0.25 0.25 0.25 0.25]\n",
      " [0.25 0.25 0.25 0.25]\n",
      " [0.25 0.25 0.25 0.25]\n",
      " [0.25 0.25 0.25 0.25]\n",
      " [0.25 0.25 0.25 0.25]\n",
      " [0.25 0.25 0.25 0.25]\n",
      " [0.25 0.25 0.25 0.25]\n",
      " [0.25 0.25 0.25 0.25]\n",
      " [0.25 0.25 0.25 0.25]\n",
      " [0.25 0.25 0.25 0.25]\n",
      " [0.25 0.25 0.25 0.25]\n",
      " [0.25 0.25 0.25 0.25]\n",
      " [0.25 0.25 0.25 0.25]\n",
      " [0.25 0.25 0.25 0.25]\n",
      " [0.25 0.25 0.25 0.25]]\n",
      "Improved policy: \n",
      " [[0.   1.   0.   0.  ]\n",
      " [0.   0.   1.   0.  ]\n",
      " [0.   1.   0.   0.  ]\n",
      " [1.   0.   0.   0.  ]\n",
      " [0.   1.   0.   0.  ]\n",
      " [0.25 0.25 0.25 0.25]\n",
      " [0.   1.   0.   0.  ]\n",
      " [0.25 0.25 0.25 0.25]\n",
      " [0.   0.   1.   0.  ]\n",
      " [0.   1.   0.   0.  ]\n",
      " [0.   1.   0.   0.  ]\n",
      " [0.25 0.25 0.25 0.25]\n",
      " [0.25 0.25 0.25 0.25]\n",
      " [0.   0.   1.   0.  ]\n",
      " [0.   0.   1.   0.  ]\n",
      " [0.25 0.25 0.25 0.25]]\n",
      "Heatmap plot for improved policy:\n"
     ]
    },
    {
     "data": {
      "image/png": "[encoded data removed]",
      "text/plain": [
       "<Figure size 360x720 with 1 Axes>"
      ]
     },
     "metadata": {
      "needs_background": "light",
      "tags": []
     },
     "output_type": "display_data"
    }
   ],
   "source": [
    "p = improve_policy(env, final_state_values)\n",
    "print(\"Initial random policy: \\n\", random_p)\n",
    "print(\"Improved policy: \\n\", p)\n",
    "print(\"Heatmap plot for improved policy:\")\n",
    "plt.figure(figsize=(5, 10))\n",
    "sns.heatmap(p, annot=True, cbar=False);"
   ]
  },
  {
   "cell_type": "markdown",
   "metadata": {
    "id": "yGv8tARpodjd"
   },
   "source": [
    "#### Part 3: Policy iteration\n",
    "\n",
    "> Practical: Code the policy iteration process, and employ it to arrive at a\n",
    "policy that solves this problem. Show your testing results, and ensure\n",
    "it reports the number of iterations for each step: (a) overall policy\n",
    "iteration steps and (b) evaluation steps.\n",
    "\n",
    "The policy iteration is implemented in a way that it will start with a random initial policy, as the results shown, it converages in 2 policy iterations, however, each iteration takes 2 policy evaluation steps as shown in table below:\n",
    "\n",
    "| Policy iterations | Policy evaluation iterations |\n",
    "|------------------|-----------------------------|\n",
    "| 1                | 57                          |\n",
    "|                  | 7                           |\n",
    "| 2                | 7                           |\n",
    "|                  | 671                         | \n",
    "\n",
    "Therefore, although policy iteration converages in 2 iterations, it is still not efficient as it requires multiple full sweep policy evaluation. The total run time of policy_iteration function is 0.1244s."
   ]
  },
  {
   "cell_type": "code",
   "execution_count": 23,
   "metadata": {
    "id": "17QgowksleSN"
   },
   "outputs": [],
   "source": [
    "def policy_iteration(env, theta=1e-6):\n",
    "  # Start with random policy with equal probability among actions\n",
    "  policy = policy_random(env)\n",
    "  iteration = 0\n",
    "  while True:\n",
    "    iteration += 1\n",
    "    print(\"-----------Policy iteration \", iteration, \"------------\")\n",
    "    state_values = policy_evaluation(env, policy)\n",
    "    improved_policy = improve_policy(env, state_values)\n",
    "    improved_state_values = policy_evaluation(env, improved_policy)\n",
    "    if np.max(abs(state_values - improved_state_values)) < theta:\n",
    "      break\n",
    "    policy = improved_policy\n",
    "  print(\"------------End of policy iteration----------------------\")\n",
    "  print(\"Policy iteration takes \", iteration, \" iterations to converage\")\n",
    "  return policy, state_values"
   ]
  },
  {
   "cell_type": "code",
   "execution_count": 24,
   "metadata": {
    "colab": {
     "base_uri": "https://localhost:8080/",
     "height": 1000
    },
    "id": "zV7RB5lep4qE",
    "outputId": "ff9ffa66-0f6e-4c45-9344-5f14a131a7a0"
   },
   "outputs": [
    {
     "name": "stdout",
     "output_type": "stream",
     "text": [
      "-----------Policy iteration  1 ------------\n",
      "Last iteration state value change is:  8.452946887588242e-09\n",
      "Policy evaluation takes 57 iteration to converage.\n",
      "Last iteration state value change is:  0\n",
      "Policy evaluation takes 7 iteration to converage.\n",
      "-----------Policy iteration  2 ------------\n",
      "Last iteration state value change is:  0\n",
      "Policy evaluation takes 7 iteration to converage.\n",
      "Last iteration state value change is:  9.834140390907464e-09\n",
      "Policy evaluation takes 671 iteration to converage.\n",
      "------------End of policy iteration----------------------\n",
      "Policy iteration takes  2  iterations to converage\n",
      "\n",
      "Total runtime of policy iteration:  0.1244041919708252 s\n",
      "\n",
      "Heatmap plot for final policy after policy iteration:\n"
     ]
    },
    {
     "data": {
      "image/png": "[encoded data removed]",
      "text/plain": [
       "<Figure size 360x720 with 1 Axes>"
      ]
     },
     "metadata": {
      "needs_background": "light",
      "tags": []
     },
     "output_type": "display_data"
    },
    {
     "name": "stdout",
     "output_type": "stream",
     "text": [
      "Heatmap plot for final state value after policy iteration:\n"
     ]
    },
    {
     "data": {
      "image/png": "[encoded data removed]",
      "text/plain": [
       "<Figure size 432x288 with 1 Axes>"
      ]
     },
     "metadata": {
      "needs_background": "light",
      "tags": []
     },
     "output_type": "display_data"
    }
   ],
   "source": [
    "# Time policy iteration run time\n",
    "start_time = time.time()\n",
    "policy_pi, state_value_pi = policy_iteration(env)\n",
    "print(\"\\nTotal runtime of policy iteration: \", time.time() - start_time, \"s\\n\")\n",
    "\n",
    "# Plot heat map of final policy\n",
    "print(\"Heatmap plot for final policy after policy iteration:\")\n",
    "plt.figure(figsize=(5, 10))\n",
    "sns.heatmap(policy_pi, annot=True, cbar=False);\n",
    "plt.show()\n",
    "\n",
    "# Plot heat map of final state value\n",
    "print(\"Heatmap plot for final state value after policy iteration:\")\n",
    "sns.heatmap(state_value_pi.reshape(4, 4), annot=True, cbar=False);"
   ]
  },
  {
   "cell_type": "markdown",
   "metadata": {
    "id": "VWukitWJ0qp2"
   },
   "source": [
    "#### Part 4: Value iteration\n",
    "\n",
    "> Practical: Code the value iteration process, and employ it to arrive at a\n",
    "policy that solves this problem. Show your testing results, reporting\n",
    "the iteration counts.\n",
    "Comment on the difference between the iterations required for policy vs\n",
    "value iteration.\n",
    "\n",
    "This value iteration takes 7 iterations to converage. which is less than policy iteration if including policy evaluation steps. The overall runtime of this value_iteration function is only 0.00265s, which is significantly faster than policy iteration. Both iteration reached the same final state value as shwon in heatmap plot."
   ]
  },
  {
   "cell_type": "code",
   "execution_count": 25,
   "metadata": {
    "id": "vU8xWaVaz7ec"
   },
   "outputs": [],
   "source": [
    "def value_iteration(env, theta=1e-6):\n",
    "  # Initial state values\n",
    "  state_value = np.zeros(env.observation_space.n)\n",
    "  iteration = 0\n",
    "  while True:\n",
    "    change = 0\n",
    "    iteration += 1\n",
    "    for s in range(len(state_value)):\n",
    "        old_state_value = state_value[s]\n",
    "        state_value[s] = max(get_q(env, state_value, s))\n",
    "        change = max(change, abs(state_value[s] - old_state_value))\n",
    "    if change < theta:\n",
    "        break\n",
    "  policy = improve_policy(env, state_value)\n",
    "  print(\"Value iteration takes\", iteration, \"iterations to converage\")\n",
    "  return policy, state_value"
   ]
  },
  {
   "cell_type": "code",
   "execution_count": 26,
   "metadata": {
    "colab": {
     "base_uri": "https://localhost:8080/",
     "height": 942
    },
    "id": "YIIN1x8Cj0zk",
    "outputId": "6e25d400-edb7-4bf7-f8e3-485b72cb6e89"
   },
   "outputs": [
    {
     "name": "stdout",
     "output_type": "stream",
     "text": [
      "Value iteration takes 7 iterations to converage\n",
      "\n",
      "Total runtime of value iteration:  0.0026450157165527344 s\n",
      "\n",
      "Heatmap plot for final policy after value iteration:\n"
     ]
    },
    {
     "data": {
      "image/png": "[encoded data removed]",
      "text/plain": [
       "<Figure size 360x720 with 1 Axes>"
      ]
     },
     "metadata": {
      "needs_background": "light",
      "tags": []
     },
     "output_type": "display_data"
    },
    {
     "name": "stdout",
     "output_type": "stream",
     "text": [
      "Heatmap plot for final state value after value iteration:\n"
     ]
    },
    {
     "data": {
      "image/png": "[encoded data removed]",
      "text/plain": [
       "<Figure size 432x288 with 1 Axes>"
      ]
     },
     "metadata": {
      "needs_background": "light",
      "tags": []
     },
     "output_type": "display_data"
    }
   ],
   "source": [
    "# Time value iteration run time\n",
    "start_time = time.time()\n",
    "policy_vi, state_value_vi = value_iteration(env)\n",
    "print(\"\\nTotal runtime of value iteration: \", time.time() - start_time, \"s\\n\")\n",
    "\n",
    "# Plot heatmap of final policy\n",
    "print(\"Heatmap plot for final policy after value iteration:\")\n",
    "plt.figure(figsize=(5, 10))\n",
    "sns.heatmap(policy_vi, annot=True, cbar=False);\n",
    "plt.show()\n",
    "\n",
    "# Plot heatmap of final state value\n",
    "print(\"Heatmap plot for final state value after value iteration:\")\n",
    "sns.heatmap(state_value_vi.reshape(4, 4), annot=True, cbar=False);"
   ]
  },
  {
   "cell_type": "markdown",
   "metadata": {
    "id": "DOoTLuegPvRU"
   },
   "source": [
    "#### Part 5: Test on new environment (is_slippery)"
   ]
  },
  {
   "cell_type": "markdown",
   "metadata": {
    "id": "oQ6Y-bDdVZnt"
   },
   "source": [
    "> Optional: instead of the above environment, use the \"slippery\" Frozen Lake via\n",
    "env = gym.make(\"FrozenLake-v0\")\n",
    "\n",
    "Similar results are observed for this new environment as well, policy iteration takes 3 iterations to converage and each iteration takes hundreds of iterations for policy evaluation to converage, total runtime of policy iteration is 0.5618s.\n",
    "\n",
    "Value iteration takes 456 iterations to converage in total and final runtime is 0.09188s, which is much faster than policy iteration.\n",
    "\n",
    "Also, after we set is_slippery to True, actions for each state is no longer deterministic, hence the resulting final state value is different from previous environemnt. However, we can see that H states still have value of 0 and other state closer to G states have higher state values, which means our policy is learning the environment correctly."
   ]
  },
  {
   "cell_type": "code",
   "execution_count": 31,
   "metadata": {
    "id": "UBBc1vaE3hml"
   },
   "outputs": [],
   "source": [
    "# Update env with is_slippery = True\n",
    "env = gym.make(\"FrozenLake-v0\")"
   ]
  },
  {
   "cell_type": "markdown",
   "metadata": {
    "id": "JjLgDUpVk_dx"
   },
   "source": [
    "Policy iteration with is_slippery = True"
   ]
  },
  {
   "cell_type": "code",
   "execution_count": 32,
   "metadata": {
    "colab": {
     "base_uri": "https://localhost:8080/",
     "height": 1000
    },
    "id": "mruNeQ8Xk7HJ",
    "outputId": "7edd49d4-af83-4730-a3ce-b766d455edb2"
   },
   "outputs": [
    {
     "name": "stdout",
     "output_type": "stream",
     "text": [
      "-----------Policy iteration  1 ------------\n",
      "Last iteration state value change is:  8.452946891057689e-09\n",
      "Policy evaluation takes 57 iteration to converage.\n",
      "Last iteration state value change is:  9.840161019347704e-09\n",
      "Policy evaluation takes 362 iteration to converage.\n",
      "-----------Policy iteration  2 ------------\n",
      "Last iteration state value change is:  9.840161019347704e-09\n",
      "Policy evaluation takes 362 iteration to converage.\n",
      "Last iteration state value change is:  9.846055970541556e-09\n",
      "Policy evaluation takes 458 iteration to converage.\n",
      "-----------Policy iteration  3 ------------\n",
      "Last iteration state value change is:  9.846055970541556e-09\n",
      "Policy evaluation takes 458 iteration to converage.\n",
      "Last iteration state value change is:  9.846055970541556e-09\n",
      "Policy evaluation takes 458 iteration to converage.\n",
      "------------End of policy iteration----------------------\n",
      "Policy iteration takes  3  iterations to converage\n",
      "Total runtime of policy iteration:  0.5617854595184326 s\n",
      "Heatmap plot for final policy after policy iteration:\n"
     ]
    },
    {
     "data": {
      "image/png": "[encoded data removed]",
      "text/plain": [
       "<Figure size 360x720 with 1 Axes>"
      ]
     },
     "metadata": {
      "needs_background": "light",
      "tags": []
     },
     "output_type": "display_data"
    },
    {
     "name": "stdout",
     "output_type": "stream",
     "text": [
      "Heatmap plot for final state value after policy iteration:\n"
     ]
    },
    {
     "data": {
      "image/png": "[encoded data removed]",
      "text/plain": [
       "<Figure size 432x288 with 1 Axes>"
      ]
     },
     "metadata": {
      "needs_background": "light",
      "tags": []
     },
     "output_type": "display_data"
    }
   ],
   "source": [
    "# Time policy iteration run time\n",
    "start_time = time.time()\n",
    "policy_pi, state_value_pi = policy_iteration(env)\n",
    "print(\"Total runtime of policy iteration: \", time.time() - start_time, \"s\")\n",
    "\n",
    "# Heatmap plot for final policy\n",
    "print(\"Heatmap plot for final policy after policy iteration:\")\n",
    "plt.figure(figsize=(5, 10))\n",
    "sns.heatmap(policy_pi, annot=True, cbar=False);\n",
    "plt.show()\n",
    "\n",
    "# Heatmap plot for final state value\n",
    "print(\"Heatmap plot for final state value after policy iteration:\")\n",
    "sns.heatmap(state_value_pi.reshape(4, 4), annot=True, cbar=False);"
   ]
  },
  {
   "cell_type": "markdown",
   "metadata": {
    "id": "-FQjQDxqlMIo"
   },
   "source": [
    "Value iteration with is_slippery = True"
   ]
  },
  {
   "cell_type": "code",
   "execution_count": 33,
   "metadata": {
    "colab": {
     "base_uri": "https://localhost:8080/",
     "height": 908
    },
    "id": "bm9uUSozlElT",
    "outputId": "24f8b198-5643-42e5-a30a-f922cd5a4e77"
   },
   "outputs": [
    {
     "name": "stdout",
     "output_type": "stream",
     "text": [
      "Value iteration takes 321 iterations to converage\n",
      "Total runtime of value iteration:  0.09188199043273926 s\n",
      "Heatmap plot for final policy after value iteration:\n"
     ]
    },
    {
     "data": {
      "image/png": "[encoded data removed]",
      "text/plain": [
       "<Figure size 360x720 with 1 Axes>"
      ]
     },
     "metadata": {
      "needs_background": "light",
      "tags": []
     },
     "output_type": "display_data"
    },
    {
     "name": "stdout",
     "output_type": "stream",
     "text": [
      "Heatmap plot for final state value after value iteration:\n"
     ]
    },
    {
     "data": {
      "image/png": "[encoded data removed]",
      "text/plain": [
       "<Figure size 432x288 with 1 Axes>"
      ]
     },
     "metadata": {
      "needs_background": "light",
      "tags": []
     },
     "output_type": "display_data"
    }
   ],
   "source": [
    "# Time value iteration run time\n",
    "start_time = time.time()\n",
    "policy_vi, state_value_vi = value_iteration(env)\n",
    "print(\"Total runtime of value iteration: \", time.time() - start_time, \"s\")\n",
    "\n",
    "# Heatmap plot for final policy\n",
    "print(\"Heatmap plot for final policy after value iteration:\")\n",
    "plt.figure(figsize=(5, 10))\n",
    "sns.heatmap(policy_vi, annot=True, cbar=False);\n",
    "plt.show()\n",
    "\n",
    "# Heatmap ploy for final state value\n",
    "print(\"Heatmap plot for final state value after value iteration:\")\n",
    "sns.heatmap(state_value_vi.reshape(4, 4), annot=True, cbar=False);"
   ]
  }
 ],
 "metadata": {
  "colab": {
   "collapsed_sections": [],
   "name": "A1_DynProg.ipynb",
   "provenance": []
  },
  "kernelspec": {
   "display_name": "Python 3",
   "language": "python",
   "name": "python3"
  },
  "language_info": {
   "codemirror_mode": {
    "name": "ipython",
    "version": 3
   },
   "file_extension": ".py",
   "mimetype": "text/x-python",
   "name": "python",
   "nbconvert_exporter": "python",
   "pygments_lexer": "ipython3",
   "version": "3.8.5"
  }
 },
 "nbformat": 4,
 "nbformat_minor": 1
}
